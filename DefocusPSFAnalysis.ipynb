{
 "cells": [
  {
   "cell_type": "code",
   "execution_count": 679,
   "metadata": {
    "collapsed": true
   },
   "outputs": [],
   "source": [
    "import numpy as np\n",
    "import os\n",
    "import json\n",
    "import matplotlib.pyplot as plt\n",
    "import glob"
   ]
  },
  {
   "cell_type": "code",
   "execution_count": 680,
   "metadata": {
    "collapsed": true
   },
   "outputs": [],
   "source": [
    "folder = \"/Volumes/myers_scope_cache/Deb/20180518/\"\n",
    "modes = 66"
   ]
  },
  {
   "cell_type": "code",
   "execution_count": 681,
   "metadata": {},
   "outputs": [],
   "source": [
    "SliceBySliceDctsVals = np.loadtxt(folder + \"SliceBySliceDCTS2d.tsv\",delimiter=\"\\t\")"
   ]
  },
  {
   "cell_type": "code",
   "execution_count": 682,
   "metadata": {},
   "outputs": [
    {
     "data": {
      "text/plain": [
       "1139"
      ]
     },
     "execution_count": 682,
     "metadata": {},
     "output_type": "execute_result"
    }
   ],
   "source": [
    "sliceTimepoints = SliceBySliceDctsVals[:,0]\n",
    "len(sliceTimepoints)"
   ]
  },
  {
   "cell_type": "code",
   "execution_count": 683,
   "metadata": {
    "collapsed": true
   },
   "outputs": [],
   "source": [
    "SliceBySliceDctsVals = np.delete(SliceBySliceDctsVals,[0,1,2,3],axis=1)"
   ]
  },
  {
   "cell_type": "code",
   "execution_count": 684,
   "metadata": {},
   "outputs": [
    {
     "data": {
      "text/plain": [
       "(1139, 123)"
      ]
     },
     "execution_count": 684,
     "metadata": {},
     "output_type": "execute_result"
    }
   ],
   "source": [
    "SliceBySliceDctsVals.shape"
   ]
  },
  {
   "cell_type": "code",
   "execution_count": 685,
   "metadata": {},
   "outputs": [
    {
     "data": {
      "text/plain": [
       "array([[  3.71890723e-05,   3.70164145e-05,   3.69710612e-05, ...,\n",
       "          3.80106520e-05,   3.80692736e-05,   3.81309016e-05],\n",
       "       [  3.71890723e-05,   3.70164145e-05,   3.69710612e-05, ...,\n",
       "          3.80106520e-05,   3.80692736e-05,   3.81309016e-05],\n",
       "       [  3.65758498e-05,   3.66225974e-05,   3.66815995e-05, ...,\n",
       "          3.80995805e-05,   3.82328970e-05,   3.82104586e-05],\n",
       "       ..., \n",
       "       [  3.85610420e-05,   3.85026165e-05,   3.85939316e-05, ...,\n",
       "          3.94789183e-05,   3.94015586e-05,   3.95026438e-05],\n",
       "       [  3.85997180e-05,   3.85529308e-05,   3.84081197e-05, ...,\n",
       "          3.96939610e-05,   3.96232460e-05,   3.94601352e-05],\n",
       "       [  3.85443713e-05,   3.84874675e-05,   3.84278293e-05, ...,\n",
       "          3.95098005e-05,   3.96013303e-05,   3.96313380e-05]])"
      ]
     },
     "execution_count": 685,
     "metadata": {},
     "output_type": "execute_result"
    }
   ],
   "source": [
    "SliceBySliceDctsVals"
   ]
  },
  {
   "cell_type": "code",
   "execution_count": 686,
   "metadata": {},
   "outputs": [],
   "source": [
    "files = glob.glob(os.path.join(folder,'*.json'))"
   ]
  },
  {
   "cell_type": "code",
   "execution_count": 687,
   "metadata": {
    "collapsed": true
   },
   "outputs": [],
   "source": [
    "timepoints = [int(name[name.rfind('_')+1:name.find(\".json\")]) for name in jsonfiles]"
   ]
  },
  {
   "cell_type": "code",
   "execution_count": 688,
   "metadata": {},
   "outputs": [
    {
     "data": {
      "text/plain": [
       "1139"
      ]
     },
     "execution_count": 688,
     "metadata": {},
     "output_type": "execute_result"
    }
   ],
   "source": [
    "len(timepoints)"
   ]
  },
  {
   "cell_type": "code",
   "execution_count": 689,
   "metadata": {},
   "outputs": [],
   "source": [
    "(timepoints,files) = zip(*sorted(zip(timepoints, files)))"
   ]
  },
  {
   "cell_type": "code",
   "execution_count": 690,
   "metadata": {},
   "outputs": [
    {
     "name": "stdout",
     "output_type": "stream",
     "text": [
      "[ 0.   0.   0.   0.1  0.   0.   0.   0.   0.   0.   0.   0.   0.   0.   0.\n",
      "  0.   0.   0.   0.   0.   0.   0.   0.   0.   0.   0.   0.   0.   0.   0.\n",
      "  0.   0.   0.   0.   0.   0.   0.   0.   0.   0.   0.   0.   0.   0.   0.\n",
      "  0.   0.   0.   0.   0.   0.   0.   0.   0.   0.   0.   0.   0.   0.   0.\n",
      "  0.   0.   0.   0.   0.   0. ]\n"
     ]
    }
   ],
   "source": [
    "zerns = np.zeros((len(timepoints),modes));\n",
    "for i,f in enumerate(files):\n",
    "    with open(os.path.join(root,f)) as json_data:\n",
    "        data = json.load(json_data)\n",
    "        zerns[i] = [data[0][j] for j in range(0,modes)]\n",
    "print(zerns[0])"
   ]
  },
  {
   "cell_type": "code",
   "execution_count": 691,
   "metadata": {},
   "outputs": [
    {
     "data": {
      "image/png": "[encoded data removed]",
      "text/plain": [
       "<matplotlib.figure.Figure at 0x10ca8ce48>"
      ]
     },
     "metadata": {},
     "output_type": "display_data"
    },
    {
     "data": {
      "text/plain": [
       "<matplotlib.figure.Figure at 0x10ca8cda0>"
      ]
     },
     "metadata": {},
     "output_type": "display_data"
    }
   ],
   "source": [
    "plt.imshow(zerns[0:102,0:7])\n",
    "plt.figure(figsize=(10,10))\n",
    "plt.show()"
   ]
  },
  {
   "cell_type": "code",
   "execution_count": 725,
   "metadata": {},
   "outputs": [
    {
     "data": {
      "image/png": "[encoded data removed]",
      "text/plain": [
       "<matplotlib.figure.Figure at 0x10ca2f9e8>"
      ]
     },
     "metadata": {},
     "output_type": "display_data"
    }
   ],
   "source": [
    "plt.ylabel(\"Coeffs of Defocus\")\n",
    "plt.xlabel(\"Slice number\")\n",
    "plt.imshow(SliceBySliceDctsVals[0:102])\n",
    "plt.show()"
   ]
  },
  {
   "cell_type": "code",
   "execution_count": 699,
   "metadata": {
    "collapsed": true
   },
   "outputs": [],
   "source": [
    "plottingV = zerns[0:102,3]\n",
    "plottingS = SliceBySliceDctsVals[0:102]"
   ]
  },
  {
   "cell_type": "code",
   "execution_count": 727,
   "metadata": {},
   "outputs": [],
   "source": [
    "(x,y) = zip(*sorted(zip(zerns[0:102,3,],SliceBySliceDctsVals[0:102])))\n",
    "y = np.array([i for i in Y])"
   ]
  },
  {
   "cell_type": "code",
   "execution_count": 736,
   "metadata": {},
   "outputs": [
    {
     "data": {
      "image/png": "[encoded data removed]",
      "text/plain": [
       "<matplotlib.figure.Figure at 0x10aed5940>"
      ]
     },
     "metadata": {},
     "output_type": "display_data"
    }
   ],
   "source": [
    "plt.imshow(y)\n",
    "plt.xlabel(\"Z\")\n",
    "plt.ylabel(\"Aberration Coeff\")\n",
    "plt.axis('off')\n",
    "plt.show()"
   ]
  },
  {
   "cell_type": "code",
   "execution_count": null,
   "metadata": {
    "collapsed": true
   },
   "outputs": [],
   "source": []
  }
 ],
 "metadata": {
  "kernelspec": {
   "display_name": "Python 3",
   "language": "python",
   "name": "python3"
  },
  "language_info": {
   "codemirror_mode": {
    "name": "ipython",
    "version": 3
   },
   "file_extension": ".py",
   "mimetype": "text/x-python",
   "name": "python",
   "nbconvert_exporter": "python",
   "pygments_lexer": "ipython3",
   "version": "3.6.1"
  }
 },
 "nbformat": 4,
 "nbformat_minor": 2
}
