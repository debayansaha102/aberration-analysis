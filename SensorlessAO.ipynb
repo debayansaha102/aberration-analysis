{
 "cells": [
  {
   "cell_type": "code",
   "execution_count": 34,
   "metadata": {
    "collapsed": true
   },
   "outputs": [],
   "source": [
    "import glob\n",
    "import numpy as np\n",
    "import matplotlib.pyplot as plt\n",
    "import tifffile\n",
    "import os"
   ]
  },
  {
   "cell_type": "code",
   "execution_count": 53,
   "metadata": {
    "collapsed": true
   },
   "outputs": [],
   "source": [
    "folder = \"/Users/dsaha/Desktop/2018-07-13-02-37-02-83-\""
   ]
  },
  {
   "cell_type": "code",
   "execution_count": 54,
   "metadata": {},
   "outputs": [
    {
     "data": {
      "text/plain": [
       "(0, 1, 2, 3, 4)"
      ]
     },
     "execution_count": 54,
     "metadata": {},
     "output_type": "execute_result"
    }
   ],
   "source": [
    "image_files = glob.glob(folder + \"/stacks/C0L0/*tif\")\n",
    "counter = [int(name[name.rfind('/')+1:name.find(\".tif\")]) for name in image_files]\n",
    "(counter,image_files) = zip(*sorted(zip(counter, image_files)))\n",
    "counter"
   ]
  },
  {
   "cell_type": "code",
   "execution_count": 56,
   "metadata": {},
   "outputs": [
    {
     "data": {
      "text/plain": [
       "[('Counter', '0', '1', '2', '3'),\n",
       " ('CoordX', '0', '0', '256', '256'),\n",
       " ('CoordY', '0', '512', '0', '512'),\n",
       " ('Width', '256', '256', '256', '256'),\n",
       " ('Height', '512', '512', '512', '512')]"
      ]
     },
     "execution_count": 56,
     "metadata": {},
     "output_type": "execute_result"
    }
   ],
   "source": [
    "log_file = folder +\"/TileCoordinates.txt\"\n",
    "with open(log_file) as f:\n",
    "    register = list(zip(*(line.strip().split('\\t') for line in f))) \n",
    "register"
   ]
  },
  {
   "cell_type": "code",
   "execution_count": 57,
   "metadata": {},
   "outputs": [],
   "source": [
    "finalImg = tifffile.imread(image_files[-1])"
   ]
  },
  {
   "cell_type": "code",
   "execution_count": 58,
   "metadata": {},
   "outputs": [
    {
     "name": "stdout",
     "output_type": "stream",
     "text": [
      "/Users/dsaha/Desktop/2018-07-13-02-37-02-83-/stacks/C0L0/000000.tif\n",
      "0 256 0 512\n",
      "/Users/dsaha/Desktop/2018-07-13-02-37-02-83-/stacks/C0L0/000001.tif\n",
      "0 256 512 1024\n",
      "/Users/dsaha/Desktop/2018-07-13-02-37-02-83-/stacks/C0L0/000002.tif\n",
      "256 512 0 512\n",
      "/Users/dsaha/Desktop/2018-07-13-02-37-02-83-/stacks/C0L0/000003.tif\n",
      "256 512 512 1024\n"
     ]
    }
   ],
   "source": [
    "for i in range(len(counter)-1):\n",
    "    img = tifffile.imread(image_files[i])\n",
    "    print(image_files[i])\n",
    "    cX1 = int(register[1][i+1])\n",
    "    cY1 = int(register[2][i+1])\n",
    "    cX2 = int(register[3][i+1]) + cX1\n",
    "    cY2 = int(register[4][i+1]) + cY1\n",
    "    finalImg[cX1:cX2,cY1:cY2] = finalImg[cX1:cX2,cY1:cY2]\n",
    "    print(cX1,cX2,cY1,cY2)"
   ]
  },
  {
   "cell_type": "code",
   "execution_count": 59,
   "metadata": {
    "collapsed": true
   },
   "outputs": [],
   "source": [
    "tifffile.imsave(folder + \"/stacks/MergedImage.tif\",finalImg)"
   ]
  },
  {
   "cell_type": "code",
   "execution_count": null,
   "metadata": {
    "collapsed": true
   },
   "outputs": [],
   "source": []
  }
 ],
 "metadata": {
  "kernelspec": {
   "display_name": "Python 3",
   "language": "python",
   "name": "python3"
  },
  "language_info": {
   "codemirror_mode": {
    "name": "ipython",
    "version": 3
   },
   "file_extension": ".py",
   "mimetype": "text/x-python",
   "name": "python",
   "nbconvert_exporter": "python",
   "pygments_lexer": "ipython3",
   "version": "3.6.1"
  }
 },
 "nbformat": 4,
 "nbformat_minor": 2
}
