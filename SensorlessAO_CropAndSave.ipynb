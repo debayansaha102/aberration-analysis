{
 "cells": [
  {
   "cell_type": "code",
   "execution_count": 1,
   "metadata": {},
   "outputs": [],
   "source": [
    "import glob\n",
    "import numpy as np\n",
    "import matplotlib.pyplot as plt\n",
    "import tifffile\n",
    "import os"
   ]
  },
  {
   "cell_type": "code",
   "execution_count": 8,
   "metadata": {},
   "outputs": [],
   "source": [
    "folder = \"D://Data//2018-07-14-15-19-36-22-SensorlessAO\""
   ]
  },
  {
   "cell_type": "code",
   "execution_count": 19,
   "metadata": {},
   "outputs": [],
   "source": [
    "image_files = glob.glob(folder + \"//stacks//C0L0//*.tif\")"
   ]
  },
  {
   "cell_type": "code",
   "execution_count": 28,
   "metadata": {},
   "outputs": [],
   "source": [
    "log_file = folder +\"//TileCoordinates.txt\"\n",
    "with open(log_file) as f:\n",
    "    register = list(zip(*(line.strip().split('\\t') for line in f))) "
   ]
  },
  {
   "cell_type": "code",
   "execution_count": 22,
   "metadata": {},
   "outputs": [],
   "source": [
    "finalImg = tifffile.imread(image_files[-1])"
   ]
  },
  {
   "cell_type": "code",
   "execution_count": 29,
   "metadata": {},
   "outputs": [
    {
     "name": "stdout",
     "output_type": "stream",
     "text": [
      "D://Data//2018-07-14-15-19-36-22-SensorlessAO//stacks//C0L0\\000000.tif\n",
      "0 128 0 128\n",
      "D://Data//2018-07-14-15-19-36-22-SensorlessAO//stacks//C0L0\\000001.tif\n",
      "0 128 128 256\n",
      "D://Data//2018-07-14-15-19-36-22-SensorlessAO//stacks//C0L0\\000002.tif\n",
      "0 128 256 384\n",
      "D://Data//2018-07-14-15-19-36-22-SensorlessAO//stacks//C0L0\\000003.tif\n",
      "0 128 384 512\n",
      "D://Data//2018-07-14-15-19-36-22-SensorlessAO//stacks//C0L0\\000004.tif\n",
      "0 128 512 640\n",
      "D://Data//2018-07-14-15-19-36-22-SensorlessAO//stacks//C0L0\\000005.tif\n",
      "0 128 640 768\n",
      "D://Data//2018-07-14-15-19-36-22-SensorlessAO//stacks//C0L0\\000006.tif\n",
      "0 128 768 896\n",
      "D://Data//2018-07-14-15-19-36-22-SensorlessAO//stacks//C0L0\\000007.tif\n",
      "0 128 896 1024\n",
      "D://Data//2018-07-14-15-19-36-22-SensorlessAO//stacks//C0L0\\000008.tif\n",
      "128 256 0 128\n",
      "D://Data//2018-07-14-15-19-36-22-SensorlessAO//stacks//C0L0\\000009.tif\n",
      "128 256 128 256\n",
      "D://Data//2018-07-14-15-19-36-22-SensorlessAO//stacks//C0L0\\000010.tif\n",
      "128 256 256 384\n",
      "D://Data//2018-07-14-15-19-36-22-SensorlessAO//stacks//C0L0\\000011.tif\n",
      "128 256 384 512\n",
      "D://Data//2018-07-14-15-19-36-22-SensorlessAO//stacks//C0L0\\000012.tif\n",
      "128 256 512 640\n",
      "D://Data//2018-07-14-15-19-36-22-SensorlessAO//stacks//C0L0\\000013.tif\n",
      "128 256 640 768\n",
      "D://Data//2018-07-14-15-19-36-22-SensorlessAO//stacks//C0L0\\000014.tif\n",
      "128 256 768 896\n",
      "D://Data//2018-07-14-15-19-36-22-SensorlessAO//stacks//C0L0\\000015.tif\n",
      "128 256 896 1024\n",
      "D://Data//2018-07-14-15-19-36-22-SensorlessAO//stacks//C0L0\\000016.tif\n",
      "256 384 0 128\n",
      "D://Data//2018-07-14-15-19-36-22-SensorlessAO//stacks//C0L0\\000017.tif\n",
      "256 384 128 256\n",
      "D://Data//2018-07-14-15-19-36-22-SensorlessAO//stacks//C0L0\\000018.tif\n",
      "256 384 256 384\n",
      "D://Data//2018-07-14-15-19-36-22-SensorlessAO//stacks//C0L0\\000019.tif\n",
      "256 384 384 512\n",
      "D://Data//2018-07-14-15-19-36-22-SensorlessAO//stacks//C0L0\\000020.tif\n",
      "256 384 512 640\n",
      "D://Data//2018-07-14-15-19-36-22-SensorlessAO//stacks//C0L0\\000021.tif\n",
      "256 384 640 768\n",
      "D://Data//2018-07-14-15-19-36-22-SensorlessAO//stacks//C0L0\\000022.tif\n",
      "256 384 768 896\n",
      "D://Data//2018-07-14-15-19-36-22-SensorlessAO//stacks//C0L0\\000023.tif\n",
      "256 384 896 1024\n",
      "D://Data//2018-07-14-15-19-36-22-SensorlessAO//stacks//C0L0\\000024.tif\n",
      "384 512 0 128\n",
      "D://Data//2018-07-14-15-19-36-22-SensorlessAO//stacks//C0L0\\000025.tif\n",
      "384 512 128 256\n",
      "D://Data//2018-07-14-15-19-36-22-SensorlessAO//stacks//C0L0\\000026.tif\n",
      "384 512 256 384\n",
      "D://Data//2018-07-14-15-19-36-22-SensorlessAO//stacks//C0L0\\000027.tif\n",
      "384 512 384 512\n",
      "D://Data//2018-07-14-15-19-36-22-SensorlessAO//stacks//C0L0\\000028.tif\n",
      "384 512 512 640\n",
      "D://Data//2018-07-14-15-19-36-22-SensorlessAO//stacks//C0L0\\000029.tif\n",
      "384 512 640 768\n",
      "D://Data//2018-07-14-15-19-36-22-SensorlessAO//stacks//C0L0\\000030.tif\n",
      "384 512 768 896\n",
      "D://Data//2018-07-14-15-19-36-22-SensorlessAO//stacks//C0L0\\000031.tif\n",
      "384 512 896 1024\n",
      "D://Data//2018-07-14-15-19-36-22-SensorlessAO//stacks//C0L0\\000032.tif\n",
      "512 640 0 128\n",
      "D://Data//2018-07-14-15-19-36-22-SensorlessAO//stacks//C0L0\\000033.tif\n",
      "512 640 128 256\n",
      "D://Data//2018-07-14-15-19-36-22-SensorlessAO//stacks//C0L0\\000034.tif\n",
      "512 640 256 384\n",
      "D://Data//2018-07-14-15-19-36-22-SensorlessAO//stacks//C0L0\\000035.tif\n",
      "512 640 384 512\n",
      "D://Data//2018-07-14-15-19-36-22-SensorlessAO//stacks//C0L0\\000036.tif\n",
      "512 640 512 640\n",
      "D://Data//2018-07-14-15-19-36-22-SensorlessAO//stacks//C0L0\\000037.tif\n",
      "512 640 640 768\n",
      "D://Data//2018-07-14-15-19-36-22-SensorlessAO//stacks//C0L0\\000038.tif\n",
      "512 640 768 896\n",
      "D://Data//2018-07-14-15-19-36-22-SensorlessAO//stacks//C0L0\\000039.tif\n",
      "512 640 896 1024\n",
      "D://Data//2018-07-14-15-19-36-22-SensorlessAO//stacks//C0L0\\000040.tif\n",
      "640 768 0 128\n",
      "D://Data//2018-07-14-15-19-36-22-SensorlessAO//stacks//C0L0\\000041.tif\n",
      "640 768 128 256\n",
      "D://Data//2018-07-14-15-19-36-22-SensorlessAO//stacks//C0L0\\000042.tif\n",
      "640 768 256 384\n",
      "D://Data//2018-07-14-15-19-36-22-SensorlessAO//stacks//C0L0\\000043.tif\n",
      "640 768 384 512\n",
      "D://Data//2018-07-14-15-19-36-22-SensorlessAO//stacks//C0L0\\000044.tif\n",
      "640 768 512 640\n",
      "D://Data//2018-07-14-15-19-36-22-SensorlessAO//stacks//C0L0\\000045.tif\n",
      "640 768 640 768\n",
      "D://Data//2018-07-14-15-19-36-22-SensorlessAO//stacks//C0L0\\000046.tif\n",
      "640 768 768 896\n",
      "D://Data//2018-07-14-15-19-36-22-SensorlessAO//stacks//C0L0\\000047.tif\n",
      "640 768 896 1024\n",
      "D://Data//2018-07-14-15-19-36-22-SensorlessAO//stacks//C0L0\\000048.tif\n",
      "768 896 0 128\n",
      "D://Data//2018-07-14-15-19-36-22-SensorlessAO//stacks//C0L0\\000049.tif\n",
      "768 896 128 256\n",
      "D://Data//2018-07-14-15-19-36-22-SensorlessAO//stacks//C0L0\\000050.tif\n",
      "768 896 256 384\n",
      "D://Data//2018-07-14-15-19-36-22-SensorlessAO//stacks//C0L0\\000051.tif\n",
      "768 896 384 512\n",
      "D://Data//2018-07-14-15-19-36-22-SensorlessAO//stacks//C0L0\\000052.tif\n",
      "768 896 512 640\n",
      "D://Data//2018-07-14-15-19-36-22-SensorlessAO//stacks//C0L0\\000053.tif\n",
      "768 896 640 768\n",
      "D://Data//2018-07-14-15-19-36-22-SensorlessAO//stacks//C0L0\\000054.tif\n",
      "768 896 768 896\n",
      "D://Data//2018-07-14-15-19-36-22-SensorlessAO//stacks//C0L0\\000055.tif\n",
      "768 896 896 1024\n",
      "D://Data//2018-07-14-15-19-36-22-SensorlessAO//stacks//C0L0\\000056.tif\n",
      "896 1024 0 128\n",
      "D://Data//2018-07-14-15-19-36-22-SensorlessAO//stacks//C0L0\\000057.tif\n",
      "896 1024 128 256\n",
      "D://Data//2018-07-14-15-19-36-22-SensorlessAO//stacks//C0L0\\000058.tif\n",
      "896 1024 256 384\n",
      "D://Data//2018-07-14-15-19-36-22-SensorlessAO//stacks//C0L0\\000059.tif\n",
      "896 1024 384 512\n",
      "D://Data//2018-07-14-15-19-36-22-SensorlessAO//stacks//C0L0\\000060.tif\n",
      "896 1024 512 640\n",
      "D://Data//2018-07-14-15-19-36-22-SensorlessAO//stacks//C0L0\\000061.tif\n",
      "896 1024 640 768\n",
      "D://Data//2018-07-14-15-19-36-22-SensorlessAO//stacks//C0L0\\000062.tif\n",
      "896 1024 768 896\n"
     ]
    }
   ],
   "source": [
    "for i in range(len(image_files)-1):\n",
    "    img = tifffile.imread(image_files[i])\n",
    "    print(image_files[i])\n",
    "    cX1 = int(register[1][i+1])\n",
    "    cY1 = int(register[2][i+1])\n",
    "    cX2 = int(register[3][i+1]) + cX1\n",
    "    cY2 = int(register[4][i+1]) + cY1\n",
    "    finalImg[cX1:cX2,cY1:cY2] = img[cX1:cX2,cY1:cY2]\n",
    "    print(cX1,cX2,cY1,cY2)"
   ]
  },
  {
   "cell_type": "code",
   "execution_count": 31,
   "metadata": {},
   "outputs": [],
   "source": [
    "tifffile.imsave(folder + \"/stacks/MergedImage.tif\",finalImg)"
   ]
  },
  {
   "cell_type": "code",
   "execution_count": null,
   "metadata": {},
   "outputs": [],
   "source": []
  }
 ],
 "metadata": {
  "kernelspec": {
   "display_name": "Python 3",
   "language": "python",
   "name": "python3"
  },
  "language_info": {
   "codemirror_mode": {
    "name": "ipython",
    "version": 3
   },
   "file_extension": ".py",
   "mimetype": "text/x-python",
   "name": "python",
   "nbconvert_exporter": "python",
   "pygments_lexer": "ipython3",
   "version": "3.6.5"
  }
 },
 "nbformat": 4,
 "nbformat_minor": 2
}
